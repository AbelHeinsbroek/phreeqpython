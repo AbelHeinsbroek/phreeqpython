{
 "cells": [
  {
   "cell_type": "markdown",
   "metadata": {},
   "source": [
    "# PhreeqPython + VIPhreeqc Functionality Overview"
   ]
  },
  {
   "cell_type": "code",
   "execution_count": 1,
   "metadata": {
    "collapsed": true
   },
   "outputs": [],
   "source": [
    "import phreeqpython\n",
    "pp = phreeqpython.PhreeqPython()"
   ]
  },
  {
   "cell_type": "markdown",
   "metadata": {},
   "source": [
    "## Adding Solutions"
   ]
  },
  {
   "cell_type": "code",
   "execution_count": 2,
   "metadata": {
    "collapsed": false
   },
   "outputs": [],
   "source": [
    "# Simple, through a reaction block\n",
    "solution = pp.add_solution({'CaCl2':1.0,'NaHCO3':2.0},temperature=15)\n",
    "# Complex, allowing for more 'standard' PHREEQC input (Phreeqc example 3 -- Mixing)\n",
    "solution2 = pp.add_solution_raw({'units':'ppm',\n",
    "                                 'pH': 8.22,\n",
    "                                 'pe': 8.451,\n",
    "                                 'density': 1.023,\n",
    "                                 'temp': 25.0,\n",
    "                                 'Ca': 412.3,\n",
    "                                 'Mg': 1291.8,\n",
    "                                 'Na': 10768.0,\n",
    "                                 'K': 399.1,\n",
    "                                 'Si': 4.28,\n",
    "                                 'Cl': 19353.0,\n",
    "                                 'Alkalinity': '141.682 as HCO3',\n",
    "                                 'S(6)': 2712.0\n",
    "                                })"
   ]
  },
  {
   "cell_type": "markdown",
   "metadata": {},
   "source": [
    "## Solution Information"
   ]
  },
  {
   "cell_type": "markdown",
   "metadata": {},
   "source": [
    "### Basic Properties"
   ]
  },
  {
   "cell_type": "code",
   "execution_count": 3,
   "metadata": {
    "collapsed": false
   },
   "outputs": [
    {
     "name": "stdout",
     "output_type": "stream",
     "text": [
      "Solution pH: 8.23\n",
      "Solution sc: 335.25\n",
      "Solution pe: 10.5\n",
      "Temperature: 15.0\n",
      "Mass:        1.0\n"
     ]
    }
   ],
   "source": [
    "print \"Solution pH: {:.3}\".format(solution.pH)\n",
    "print \"Solution sc: {:3.2f}\".format(solution.sc)\n",
    "print \"Solution pe: {:.3}\".format(solution.pe)\n",
    "print \"Temperature: {:.3}\".format(solution.temperature)\n",
    "print \"Mass:        {:.3}\".format(solution.mass)"
   ]
  },
  {
   "cell_type": "markdown",
   "metadata": {},
   "source": [
    "### Species"
   ]
  },
  {
   "cell_type": "code",
   "execution_count": 4,
   "metadata": {
    "collapsed": false
   },
   "outputs": [
    {
     "data": {
      "text/plain": [
       "{u'CH4': 0.0,\n",
       " u'CO2': 2.7909024983359043e-05,\n",
       " u'CO3-2': 1.504189457564534e-05,\n",
       " u'Ca+2': 0.0009734342277295038,\n",
       " u'CaCO3': 1.1724417168794343e-05,\n",
       " u'CaHCO3+': 1.4819423174432155e-05,\n",
       " u'CaOH+': 2.1931927102669182e-08,\n",
       " u'Cl-': 0.0020000000000000005,\n",
       " u'H+': 6.3511969105813895e-09,\n",
       " u'H2': 0.0,\n",
       " u'H2O': 55.50932491627957,\n",
       " u'HCO3-': 0.0019282729745638734,\n",
       " u'Na+': 0.001997767734466099,\n",
       " u'NaCO3-': 2.4888466990103817e-07,\n",
       " u'NaHCO3': 1.983380863998685e-06,\n",
       " u'NaOH': 1.4165712953779178e-19,\n",
       " u'O2': 1.880500103837165e-15,\n",
       " u'OH-': 8.235839079271772e-07}"
      ]
     },
     "execution_count": 4,
     "metadata": {},
     "output_type": "execute_result"
    }
   ],
   "source": [
    "solution.species"
   ]
  },
  {
   "cell_type": "markdown",
   "metadata": {},
   "source": [
    "### Elements"
   ]
  },
  {
   "cell_type": "code",
   "execution_count": 5,
   "metadata": {
    "collapsed": false
   },
   "outputs": [
    {
     "data": {
      "text/plain": [
       "{u'C(4)': 0.002000000000000004,\n",
       " u'Ca': 0.000999999999999833,\n",
       " u'Cl': 0.0020000000000000005,\n",
       " u'Na': 0.001999999999999999,\n",
       " u'O(0)': 3.76100020767433e-15}"
      ]
     },
     "execution_count": 5,
     "metadata": {},
     "output_type": "execute_result"
    }
   ],
   "source": [
    "solution.elements"
   ]
  },
  {
   "cell_type": "markdown",
   "metadata": {},
   "source": [
    "### Phases and their SI"
   ]
  },
  {
   "cell_type": "code",
   "execution_count": 6,
   "metadata": {
    "collapsed": false
   },
   "outputs": [
    {
     "data": {
      "text/plain": [
       "{u'Aragonite': 0.1932078777270103,\n",
       " u'CH4(g)': -125.58800591273227,\n",
       " u'CO2(g)': -3.216751152245572,\n",
       " u'Calcite': 0.34442418867614855,\n",
       " u'Fix_pH': -8.226383714702244,\n",
       " u'H2(g)': -37.424312956480996,\n",
       " u'H2O(g)': -1.7694469897527798,\n",
       " u'Halite': -7.024441375036288,\n",
       " u'O2(g)': -11.912977050671959,\n",
       " u'Vaterite': -0.2494038522747335}"
      ]
     },
     "execution_count": 6,
     "metadata": {},
     "output_type": "execute_result"
    }
   ],
   "source": [
    "solution.phases"
   ]
  },
  {
   "cell_type": "markdown",
   "metadata": {},
   "source": [
    "### Element and Species sums"
   ]
  },
  {
   "cell_type": "code",
   "execution_count": 7,
   "metadata": {
    "collapsed": false
   },
   "outputs": [
    {
     "data": {
      "text/plain": [
       "0.0020000000000000005"
      ]
     },
     "execution_count": 7,
     "metadata": {},
     "output_type": "execute_result"
    }
   ],
   "source": [
    "solution.total_element('Cl')"
   ]
  },
  {
   "cell_type": "code",
   "execution_count": 8,
   "metadata": {
    "collapsed": false
   },
   "outputs": [
    {
     "data": {
      "text/plain": [
       "0.0019450757786023043"
      ]
     },
     "execution_count": 8,
     "metadata": {},
     "output_type": "execute_result"
    }
   ],
   "source": [
    "solution.total('HCO3') # equavalent to SUM_SPECIES"
   ]
  },
  {
   "cell_type": "markdown",
   "metadata": {},
   "source": [
    "## Modifying Solutions"
   ]
  },
  {
   "cell_type": "markdown",
   "metadata": {},
   "source": [
    "### Adding and Removing"
   ]
  },
  {
   "cell_type": "code",
   "execution_count": 9,
   "metadata": {
    "collapsed": false
   },
   "outputs": [],
   "source": [
    "solution.add('NaOH',1)              # add 1 mmol of NaOH\n",
    "solution.remove('NaCl',1)           # remove 1 mmol of NaCl\n",
    "solution.remove_fraction('CO3',0.5) # remove 50% of CO3"
   ]
  },
  {
   "cell_type": "markdown",
   "metadata": {},
   "source": [
    "### Saturation and Desaturation"
   ]
  },
  {
   "cell_type": "code",
   "execution_count": 10,
   "metadata": {
    "collapsed": false
   },
   "outputs": [],
   "source": [
    "solution.saturate('Calcite',1.0)    # Saturate to SI 1.0\n",
    "solution.desaturate('Calcite',1.0)  # Desaturate to SI 1.0"
   ]
  },
  {
   "cell_type": "markdown",
   "metadata": {},
   "source": [
    "### Changing pH"
   ]
  },
  {
   "cell_type": "code",
   "execution_count": 11,
   "metadata": {
    "collapsed": false
   },
   "outputs": [
    {
     "data": {
      "text/plain": [
       "5.0"
      ]
     },
     "execution_count": 11,
     "metadata": {},
     "output_type": "execute_result"
    }
   ],
   "source": [
    "solution.change_ph(5,'HCl')         # Change pH to 5 by dosing HCl\n",
    "solution.pH"
   ]
  },
  {
   "cell_type": "markdown",
   "metadata": {},
   "source": [
    "### Changing Temperature"
   ]
  },
  {
   "cell_type": "code",
   "execution_count": 12,
   "metadata": {
    "collapsed": false
   },
   "outputs": [
    {
     "data": {
      "text/plain": [
       "10.0"
      ]
     },
     "execution_count": 12,
     "metadata": {},
     "output_type": "execute_result"
    }
   ],
   "source": [
    "solution.change_temperature(10)     # Change temperature to 10 degrees\n",
    "solution.temperature"
   ]
  },
  {
   "cell_type": "markdown",
   "metadata": {},
   "source": [
    "## Mixing Solutions"
   ]
  },
  {
   "cell_type": "code",
   "execution_count": 13,
   "metadata": {
    "collapsed": false
   },
   "outputs": [
    {
     "name": "stdout",
     "output_type": "stream",
     "text": [
      "Solution 3:\n",
      "Total Chloride: 0.002 mmol\n",
      "Mass: 1.0\n",
      "\n",
      "Solution 4:\n",
      "Total Chloride: 0.004 mmol\n",
      "Mass: 2.0\n"
     ]
    }
   ],
   "source": [
    "solution1 = pp.add_solution({'NaCl':1})\n",
    "solution2 = pp.add_solution({'NaCl':3})\n",
    "# make a solution of 50% solution 1 and 50% solution 2:\n",
    "solution3 = solution1 * 0.5 + solution2 * 0.5\n",
    "# make a solution by mixing solution 1 and 2 together\n",
    "solution4 = solution1 + solution2\n",
    "print \"Solution 3:\"\n",
    "print \"Total Chloride: {:.3} mmol\".format(solution3.total('Cl'))\n",
    "print \"Mass: {:.3}\".format(solution3.mass)\n",
    "print \"\"\n",
    "print \"Solution 4:\"\n",
    "print \"Total Chloride: {:.3} mmol\".format(solution4.total('Cl'))\n",
    "print \"Mass: {:.3}\".format(solution4.mass)"
   ]
  },
  {
   "cell_type": "markdown",
   "metadata": {},
   "source": [
    "## Misc. Functionality"
   ]
  },
  {
   "cell_type": "markdown",
   "metadata": {},
   "source": [
    "### Copying Solutions"
   ]
  },
  {
   "cell_type": "code",
   "execution_count": 17,
   "metadata": {
    "collapsed": false
   },
   "outputs": [
    {
     "name": "stdout",
     "output_type": "stream",
     "text": [
      "245.052630295\n"
     ]
    }
   ],
   "source": [
    "solution5 = solution4.copy()\n",
    "print solution5.sc"
   ]
  },
  {
   "cell_type": "markdown",
   "metadata": {},
   "source": [
    "### Forgetting solutions"
   ]
  },
  {
   "cell_type": "code",
   "execution_count": 18,
   "metadata": {
    "collapsed": false
   },
   "outputs": [],
   "source": [
    "solution5.forget()"
   ]
  }
 ],
 "metadata": {
  "kernelspec": {
   "display_name": "Python 2",
   "language": "python",
   "name": "python2"
  },
  "language_info": {
   "codemirror_mode": {
    "name": "ipython",
    "version": 2
   },
   "file_extension": ".py",
   "mimetype": "text/x-python",
   "name": "python",
   "nbconvert_exporter": "python",
   "pygments_lexer": "ipython2",
   "version": "2.7.10"
  }
 },
 "nbformat": 4,
 "nbformat_minor": 0
}
