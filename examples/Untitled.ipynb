{
 "cells": [
  {
   "cell_type": "markdown",
   "metadata": {},
   "source": [
    "# The Carbonic Acid/Bicarbonate/Carbonate Equilibrium $\\require{mhchem}$\n",
    "\n",
    "Carbonic Acid ($\\ce{H2CO3}$), Bicarbonate ($\\ce{HCO3-}$) and Carbonate ($\\ce{CO3^{2-}}$) form in water through the following equilibrium reactions:\n",
    "\n",
    "$$ \\ce{CO2 + H2O <=> H2CO3} $$\n",
    "$$ \\ce{H2CO3 <=> HCO3- + H+} $$\n",
    "$$ \\ce{HCO3- <=> CO3^{2-} + H+} $$\n",
    "\n",
    "The distribution of carbonic acid, bicarbonate and carbonate is dependent on the pH of the water, and is easily simulated using PhreeqPython"
   ]
  },
  {
   "cell_type": "code",
   "execution_count": null,
   "metadata": {
    "collapsed": true
   },
   "outputs": [],
   "source": []
  }
 ],
 "metadata": {
  "kernelspec": {
   "display_name": "Python 2",
   "language": "python",
   "name": "python2"
  },
  "language_info": {
   "codemirror_mode": {
    "name": "ipython",
    "version": 2
   },
   "file_extension": ".py",
   "mimetype": "text/x-python",
   "name": "python",
   "nbconvert_exporter": "python",
   "pygments_lexer": "ipython2",
   "version": "2.7.10"
  }
 },
 "nbformat": 4,
 "nbformat_minor": 0
}
